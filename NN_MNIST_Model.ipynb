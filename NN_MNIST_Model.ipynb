{
  "nbformat": 4,
  "nbformat_minor": 0,
  "metadata": {
    "colab": {
      "provenance": [],
      "collapsed_sections": [],
      "include_colab_link": true
    },
    "kernelspec": {
      "name": "python3",
      "display_name": "Python 3"
    },
    "language_info": {
      "name": "python"
    },
    "accelerator": "TPU"
  },
  "cells": [
    {
      "cell_type": "markdown",
      "metadata": {
        "id": "view-in-github",
        "colab_type": "text"
      },
      "source": [
        "<a href=\"https://colab.research.google.com/github/Shayankr/AI_and_ComputerVision/blob/master/NN_MNIST_Model.ipynb\" target=\"_parent\"><img src=\"https://colab.research.google.com/assets/colab-badge.svg\" alt=\"Open In Colab\"/></a>"
      ]
    },
    {
      "cell_type": "code",
      "metadata": {
        "id": "grQVP1497I2-"
      },
      "source": [
        "import numpy as np\n",
        "import pandas as pd\n",
        "import matplotlib.pyplot as plt\n",
        "import seaborn as sns\n",
        "import tensorflow as tf\n",
        "import sklearn"
      ],
      "execution_count": 1,
      "outputs": []
    },
    {
      "cell_type": "code",
      "metadata": {
        "id": "SRVvSaNB9aIc"
      },
      "source": [
        "# Training\n",
        "# 1. Get data\n",
        "from tensorflow.keras.datasets import mnist"
      ],
      "execution_count": 2,
      "outputs": []
    },
    {
      "cell_type": "code",
      "metadata": {
        "colab": {
          "base_uri": "https://localhost:8080/"
        },
        "id": "-BxBuml79tsZ",
        "outputId": "200aa791-35a0-4d81-af71-1f8ef17284ee"
      },
      "source": [
        "# x - input - images \n",
        "# y - output - labels\n",
        "(x_train, y_train), (x_test, y_test) = mnist.load_data()"
      ],
      "execution_count": 3,
      "outputs": [
        {
          "output_type": "stream",
          "name": "stdout",
          "text": [
            "Downloading data from https://storage.googleapis.com/tensorflow/tf-keras-datasets/mnist.npz\n",
            "11493376/11490434 [==============================] - 0s 0us/step\n",
            "11501568/11490434 [==============================] - 0s 0us/step\n"
          ]
        }
      ]
    },
    {
      "cell_type": "code",
      "metadata": {
        "colab": {
          "base_uri": "https://localhost:8080/"
        },
        "id": "PAwlDKyH-BaM",
        "outputId": "4ee47b97-f89e-4f6c-9bf5-04569516deaa"
      },
      "source": [
        "print(f\"Shape of x_train {x_train.shape}\")\n",
        "print(f\"Shape of y_train {y_train.shape}\")"
      ],
      "execution_count": 4,
      "outputs": [
        {
          "output_type": "stream",
          "name": "stdout",
          "text": [
            "Shape of x_train (60000, 28, 28)\n",
            "Shape of y_train (60000,)\n"
          ]
        }
      ]
    },
    {
      "cell_type": "code",
      "metadata": {
        "colab": {
          "base_uri": "https://localhost:8080/"
        },
        "id": "5_16i7rm-Mnz",
        "outputId": "574a0d7b-7b13-4976-dda9-28ba8a1a1f5f"
      },
      "source": [
        "print(f\"Shape of x_test {x_test.shape}\")\n",
        "print(f\"Shape of y_test {y_test.shape}\")"
      ],
      "execution_count": 5,
      "outputs": [
        {
          "output_type": "stream",
          "name": "stdout",
          "text": [
            "Shape of x_test (10000, 28, 28)\n",
            "Shape of y_test (10000,)\n"
          ]
        }
      ]
    },
    {
      "cell_type": "code",
      "metadata": {
        "colab": {
          "base_uri": "https://localhost:8080/",
          "height": 282
        },
        "id": "LT070RW2_9m3",
        "outputId": "ba195929-0a86-43a7-985b-5301d479b52b"
      },
      "source": [
        "plt.imshow(x_train[123])\n",
        "print(y_train[123])"
      ],
      "execution_count": 6,
      "outputs": [
        {
          "output_type": "stream",
          "name": "stdout",
          "text": [
            "7\n"
          ]
        },
        {
          "output_type": "display_data",
          "data": {
            "text/plain": [
              "<Figure size 432x288 with 1 Axes>"
            ],
            "image/png": "[encoded data removed]"
          },
          "metadata": {
            "needs_background": "light"
          }
        }
      ]
    },
    {
      "cell_type": "code",
      "metadata": {
        "colab": {
          "base_uri": "https://localhost:8080/"
        },
        "id": "xtSLL3MS-TFz",
        "outputId": "905e4df2-18a8-4a46-c40f-652bf98012c2"
      },
      "source": [
        "# 2. Prepare the data \n",
        "# 2.1 Normalize the data - Bring the complete data in a particular range (0-1 or -1 to +1)\n",
        "# Max Normalization \n",
        "# x_train/ max(x_train)\n",
        "\n",
        "alist = np.array([0,5,10,15,20])\n",
        "alist/20"
      ],
      "execution_count": 7,
      "outputs": [
        {
          "output_type": "execute_result",
          "data": {
            "text/plain": [
              "array([0.  , 0.25, 0.5 , 0.75, 1.  ])"
            ]
          },
          "metadata": {},
          "execution_count": 7
        }
      ]
    },
    {
      "cell_type": "code",
      "metadata": {
        "id": "h5H5K8C6BX7p"
      },
      "source": [
        "x_train = x_train / 255.0"
      ],
      "execution_count": 8,
      "outputs": []
    },
    {
      "cell_type": "code",
      "metadata": {
        "colab": {
          "base_uri": "https://localhost:8080/"
        },
        "id": "qxdni2IRBqJD",
        "outputId": "9e24ea30-8e8f-49be-abb7-8d463f2a1cee"
      },
      "source": [
        "x_train.shape"
      ],
      "execution_count": 9,
      "outputs": [
        {
          "output_type": "execute_result",
          "data": {
            "text/plain": [
              "(60000, 28, 28)"
            ]
          },
          "metadata": {},
          "execution_count": 9
        }
      ]
    },
    {
      "cell_type": "code",
      "metadata": {
        "colab": {
          "base_uri": "https://localhost:8080/",
          "height": 282
        },
        "id": "myV5gHy4BrLg",
        "outputId": "2b1a60c8-2f46-45fa-b6c5-97ddfa774b2c"
      },
      "source": [
        "plt.imshow(x_train[123])"
      ],
      "execution_count": 10,
      "outputs": [
        {
          "output_type": "execute_result",
          "data": {
            "text/plain": [
              "<matplotlib.image.AxesImage at 0x7f9f831a7ed0>"
            ]
          },
          "metadata": {},
          "execution_count": 10
        },
        {
          "output_type": "display_data",
          "data": {
            "text/plain": [
              "<Figure size 432x288 with 1 Axes>"
            ],
            "image/png": "[encoded data removed]"
          },
          "metadata": {
            "needs_background": "light"
          }
        }
      ]
    },
    {
      "cell_type": "code",
      "metadata": {
        "colab": {
          "base_uri": "https://localhost:8080/"
        },
        "id": "mPgDLVZ-Btxa",
        "outputId": "80e8c5e8-2588-4e55-a5ce-468a37c35a43"
      },
      "source": [
        "# 2.2 Process the outptut \n",
        "y_train"
      ],
      "execution_count": 11,
      "outputs": [
        {
          "output_type": "execute_result",
          "data": {
            "text/plain": [
              "array([5, 0, 4, ..., 5, 6, 8], dtype=uint8)"
            ]
          },
          "metadata": {},
          "execution_count": 11
        }
      ]
    },
    {
      "cell_type": "code",
      "metadata": {
        "id": "fA00KPxjCiyy"
      },
      "source": [
        "# Row  | A |  B  | C \n",
        "# A    | 1 |  0  | 0 \n",
        "# B    | 0 |  1  | 0 \n",
        "# C.   | 0 |  0  | 1\n",
        "# A.   | 1 |  0  | 0\n",
        "# B    | 0 |  1  | 0 "
      ],
      "execution_count": 12,
      "outputs": []
    },
    {
      "cell_type": "code",
      "metadata": {
        "id": "jwhTaSNvDuat"
      },
      "source": [
        "from tensorflow.keras.utils import to_categorical"
      ],
      "execution_count": 13,
      "outputs": []
    },
    {
      "cell_type": "code",
      "metadata": {
        "id": "OGFTfuh5Epzn"
      },
      "source": [
        "y_train = to_categorical(y_train)"
      ],
      "execution_count": 14,
      "outputs": []
    },
    {
      "cell_type": "code",
      "metadata": {
        "colab": {
          "base_uri": "https://localhost:8080/"
        },
        "id": "TmkpZI7hEvz3",
        "outputId": "eabc53a6-bfb3-44f6-f0fe-0250de82dcce"
      },
      "source": [
        "y_train[2]"
      ],
      "execution_count": 15,
      "outputs": [
        {
          "output_type": "execute_result",
          "data": {
            "text/plain": [
              "array([0., 0., 0., 0., 1., 0., 0., 0., 0., 0.], dtype=float32)"
            ]
          },
          "metadata": {},
          "execution_count": 15
        }
      ]
    },
    {
      "cell_type": "code",
      "metadata": {
        "id": "xVSS6Em5Eyzl"
      },
      "source": [
        "# 3. Make model \n",
        "# Using Keras build an NN model"
      ],
      "execution_count": 16,
      "outputs": []
    },
    {
      "cell_type": "code",
      "metadata": {
        "id": "D2ivCTAOHZZK"
      },
      "source": [
        "#affine - w1x1 + w2X2 + b1"
      ],
      "execution_count": 17,
      "outputs": []
    },
    {
      "cell_type": "code",
      "metadata": {
        "id": "aolVE4omG1Lj"
      },
      "source": [
        "# weights - neurons in previous layer * neurons in current layer \n",
        "# bias - neurons in curent layer"
      ],
      "execution_count": 18,
      "outputs": []
    },
    {
      "cell_type": "code",
      "metadata": {
        "id": "M8JEaHjGFkPr"
      },
      "source": [
        "from tensorflow.keras.models import Sequential\n",
        "from tensorflow.keras.layers import Flatten, Dense\n",
        "from tensorflow.keras.activations import relu, softmax\n",
        "from tensorflow.keras.losses import categorical_crossentropy\n",
        "from tensorflow.keras.optimizers import SGD"
      ],
      "execution_count": 19,
      "outputs": []
    },
    {
      "cell_type": "code",
      "metadata": {
        "colab": {
          "base_uri": "https://localhost:8080/"
        },
        "id": "8p4bAUL_FrTq",
        "outputId": "1c690518-0c10-4071-f36d-651a434fbf46"
      },
      "source": [
        "# Create the model and do a Feed Forward\n",
        "model = Sequential()\n",
        "model.add(Flatten(input_shape=(28,28)))\n",
        "model.add(Dense(128, activation=relu))\n",
        "model.add(Dense(10, activation=softmax))\n",
        "model.summary()"
      ],
      "execution_count": 20,
      "outputs": [
        {
          "output_type": "stream",
          "name": "stdout",
          "text": [
            "Model: \"sequential\"\n",
            "_________________________________________________________________\n",
            " Layer (type)                Output Shape              Param #   \n",
            "=================================================================\n",
            " flatten (Flatten)           (None, 784)               0         \n",
            "                                                                 \n",
            " dense (Dense)               (None, 128)               100480    \n",
            "                                                                 \n",
            " dense_1 (Dense)             (None, 10)                1290      \n",
            "                                                                 \n",
            "=================================================================\n",
            "Total params: 101,770\n",
            "Trainable params: 101,770\n",
            "Non-trainable params: 0\n",
            "_________________________________________________________________\n"
          ]
        }
      ]
    },
    {
      "cell_type": "code",
      "metadata": {
        "colab": {
          "base_uri": "https://localhost:8080/"
        },
        "id": "eB5If7OMI6E0",
        "outputId": "6b4fd8ae-c85d-4ab4-d87c-fcc36c7f7c7d"
      },
      "source": [
        "(784*512) + 512 # Model capacity"
      ],
      "execution_count": 21,
      "outputs": [
        {
          "output_type": "execute_result",
          "data": {
            "text/plain": [
              "401920"
            ]
          },
          "metadata": {},
          "execution_count": 21
        }
      ]
    },
    {
      "cell_type": "code",
      "metadata": {
        "colab": {
          "base_uri": "https://localhost:8080/"
        },
        "id": "9kzJs0koJZTf",
        "outputId": "7719b7ce-95bb-45bf-bdee-b2643aebd9dd"
      },
      "source": [
        "28*28"
      ],
      "execution_count": 22,
      "outputs": [
        {
          "output_type": "execute_result",
          "data": {
            "text/plain": [
              "784"
            ]
          },
          "metadata": {},
          "execution_count": 22
        }
      ]
    },
    {
      "cell_type": "code",
      "metadata": {
        "id": "6wM7iXgVJ4XI"
      },
      "source": [
        "# Select the error mechanism & Back prop opt algo\n",
        "model.compile(optimizer=SGD(learning_rate=0.01), \n",
        "              loss=categorical_crossentropy, \n",
        "              metrics=[\"acc\"])"
      ],
      "execution_count": 23,
      "outputs": []
    },
    {
      "cell_type": "code",
      "metadata": {
        "colab": {
          "base_uri": "https://localhost:8080/"
        },
        "id": "xghO8jdjMY7y",
        "outputId": "6969c113-7f4b-4aa1-fe3a-714000dcbb44"
      },
      "source": [
        "# start training\n",
        "model_history = model.fit(x=x_train, y=y_train, batch_size=64, epochs=200, validation_split=0.2) # 80% for training"
      ],
      "execution_count": 24,
      "outputs": [
        {
          "output_type": "stream",
          "name": "stdout",
          "text": [
            "Epoch 1/200\n",
            "750/750 [==============================] - 5s 5ms/step - loss: 0.9956 - acc: 0.7594 - val_loss: 0.5075 - val_acc: 0.8751\n",
            "Epoch 2/200\n",
            "750/750 [==============================] - 5s 6ms/step - loss: 0.4624 - acc: 0.8804 - val_loss: 0.3815 - val_acc: 0.8972\n",
            "Epoch 3/200\n",
            "750/750 [==============================] - 4s 6ms/step - loss: 0.3809 - acc: 0.8947 - val_loss: 0.3391 - val_acc: 0.9049\n",
            "Epoch 4/200\n",
            "750/750 [==============================] - 5s 6ms/step - loss: 0.3424 - acc: 0.9040 - val_loss: 0.3110 - val_acc: 0.9131\n",
            "Epoch 5/200\n",
            "750/750 [==============================] - 4s 5ms/step - loss: 0.3177 - acc: 0.9100 - val_loss: 0.2923 - val_acc: 0.9175\n",
            "Epoch 6/200\n",
            "750/750 [==============================] - 4s 5ms/step - loss: 0.2991 - acc: 0.9148 - val_loss: 0.2779 - val_acc: 0.9229\n",
            "Epoch 7/200\n",
            "750/750 [==============================] - 3s 5ms/step - loss: 0.2839 - acc: 0.9192 - val_loss: 0.2662 - val_acc: 0.9264\n",
            "Epoch 8/200\n",
            "750/750 [==============================] - 4s 5ms/step - loss: 0.2710 - acc: 0.9230 - val_loss: 0.2554 - val_acc: 0.9283\n",
            "Epoch 9/200\n",
            "750/750 [==============================] - 4s 5ms/step - loss: 0.2598 - acc: 0.9265 - val_loss: 0.2459 - val_acc: 0.9309\n",
            "Epoch 10/200\n",
            "750/750 [==============================] - 4s 5ms/step - loss: 0.2499 - acc: 0.9287 - val_loss: 0.2381 - val_acc: 0.9328\n",
            "Epoch 11/200\n",
            "750/750 [==============================] - 4s 5ms/step - loss: 0.2407 - acc: 0.9311 - val_loss: 0.2303 - val_acc: 0.9355\n",
            "Epoch 12/200\n",
            "750/750 [==============================] - 4s 5ms/step - loss: 0.2323 - acc: 0.9341 - val_loss: 0.2237 - val_acc: 0.9381\n",
            "Epoch 13/200\n",
            "750/750 [==============================] - 3s 5ms/step - loss: 0.2248 - acc: 0.9361 - val_loss: 0.2178 - val_acc: 0.9395\n",
            "Epoch 14/200\n",
            "750/750 [==============================] - 4s 5ms/step - loss: 0.2178 - acc: 0.9376 - val_loss: 0.2114 - val_acc: 0.9423\n",
            "Epoch 15/200\n",
            "750/750 [==============================] - 4s 5ms/step - loss: 0.2108 - acc: 0.9398 - val_loss: 0.2061 - val_acc: 0.9433\n",
            "Epoch 16/200\n",
            "750/750 [==============================] - 4s 5ms/step - loss: 0.2048 - acc: 0.9413 - val_loss: 0.2011 - val_acc: 0.9456\n",
            "Epoch 17/200\n",
            "750/750 [==============================] - 4s 5ms/step - loss: 0.1989 - acc: 0.9434 - val_loss: 0.1967 - val_acc: 0.9460\n",
            "Epoch 18/200\n",
            "750/750 [==============================] - 4s 5ms/step - loss: 0.1934 - acc: 0.9444 - val_loss: 0.1916 - val_acc: 0.9479\n",
            "Epoch 19/200\n",
            "750/750 [==============================] - 4s 5ms/step - loss: 0.1882 - acc: 0.9464 - val_loss: 0.1876 - val_acc: 0.9496\n",
            "Epoch 20/200\n",
            "750/750 [==============================] - 4s 5ms/step - loss: 0.1831 - acc: 0.9476 - val_loss: 0.1831 - val_acc: 0.9515\n",
            "Epoch 21/200\n",
            "750/750 [==============================] - 4s 5ms/step - loss: 0.1786 - acc: 0.9492 - val_loss: 0.1795 - val_acc: 0.9513\n",
            "Epoch 22/200\n",
            "750/750 [==============================] - 4s 5ms/step - loss: 0.1740 - acc: 0.9503 - val_loss: 0.1758 - val_acc: 0.9528\n",
            "Epoch 23/200\n",
            "750/750 [==============================] - 4s 5ms/step - loss: 0.1697 - acc: 0.9515 - val_loss: 0.1721 - val_acc: 0.9533\n",
            "Epoch 24/200\n",
            "750/750 [==============================] - 4s 5ms/step - loss: 0.1656 - acc: 0.9528 - val_loss: 0.1695 - val_acc: 0.9538\n",
            "Epoch 25/200\n",
            "750/750 [==============================] - 4s 5ms/step - loss: 0.1618 - acc: 0.9538 - val_loss: 0.1660 - val_acc: 0.9550\n",
            "Epoch 26/200\n",
            "750/750 [==============================] - 3s 5ms/step - loss: 0.1580 - acc: 0.9550 - val_loss: 0.1635 - val_acc: 0.9552\n",
            "Epoch 27/200\n",
            "750/750 [==============================] - 4s 5ms/step - loss: 0.1545 - acc: 0.9559 - val_loss: 0.1600 - val_acc: 0.9561\n",
            "Epoch 28/200\n",
            "750/750 [==============================] - 4s 5ms/step - loss: 0.1511 - acc: 0.9568 - val_loss: 0.1571 - val_acc: 0.9567\n",
            "Epoch 29/200\n",
            "750/750 [==============================] - 3s 5ms/step - loss: 0.1479 - acc: 0.9579 - val_loss: 0.1554 - val_acc: 0.9567\n",
            "Epoch 30/200\n",
            "750/750 [==============================] - 4s 5ms/step - loss: 0.1447 - acc: 0.9586 - val_loss: 0.1522 - val_acc: 0.9582\n",
            "Epoch 31/200\n",
            "750/750 [==============================] - 4s 5ms/step - loss: 0.1416 - acc: 0.9603 - val_loss: 0.1514 - val_acc: 0.9586\n",
            "Epoch 32/200\n",
            "750/750 [==============================] - 3s 5ms/step - loss: 0.1389 - acc: 0.9604 - val_loss: 0.1483 - val_acc: 0.9593\n",
            "Epoch 33/200\n",
            "750/750 [==============================] - 4s 5ms/step - loss: 0.1362 - acc: 0.9620 - val_loss: 0.1457 - val_acc: 0.9603\n",
            "Epoch 34/200\n",
            "750/750 [==============================] - 3s 5ms/step - loss: 0.1334 - acc: 0.9629 - val_loss: 0.1441 - val_acc: 0.9597\n",
            "Epoch 35/200\n",
            "750/750 [==============================] - 3s 5ms/step - loss: 0.1308 - acc: 0.9636 - val_loss: 0.1421 - val_acc: 0.9608\n",
            "Epoch 36/200\n",
            "750/750 [==============================] - 4s 5ms/step - loss: 0.1283 - acc: 0.9642 - val_loss: 0.1399 - val_acc: 0.9617\n",
            "Epoch 37/200\n",
            "750/750 [==============================] - 4s 5ms/step - loss: 0.1260 - acc: 0.9646 - val_loss: 0.1384 - val_acc: 0.9615\n",
            "Epoch 38/200\n",
            "750/750 [==============================] - 4s 5ms/step - loss: 0.1236 - acc: 0.9659 - val_loss: 0.1367 - val_acc: 0.9624\n",
            "Epoch 39/200\n",
            "750/750 [==============================] - 4s 5ms/step - loss: 0.1214 - acc: 0.9659 - val_loss: 0.1348 - val_acc: 0.9620\n",
            "Epoch 40/200\n",
            "750/750 [==============================] - 4s 5ms/step - loss: 0.1191 - acc: 0.9669 - val_loss: 0.1332 - val_acc: 0.9632\n",
            "Epoch 41/200\n",
            "750/750 [==============================] - 4s 5ms/step - loss: 0.1171 - acc: 0.9679 - val_loss: 0.1315 - val_acc: 0.9637\n",
            "Epoch 42/200\n",
            "750/750 [==============================] - 4s 5ms/step - loss: 0.1149 - acc: 0.9680 - val_loss: 0.1303 - val_acc: 0.9638\n",
            "Epoch 43/200\n",
            "750/750 [==============================] - 4s 5ms/step - loss: 0.1131 - acc: 0.9685 - val_loss: 0.1289 - val_acc: 0.9640\n",
            "Epoch 44/200\n",
            "750/750 [==============================] - 3s 4ms/step - loss: 0.1111 - acc: 0.9689 - val_loss: 0.1280 - val_acc: 0.9638\n",
            "Epoch 45/200\n",
            "750/750 [==============================] - 3s 4ms/step - loss: 0.1092 - acc: 0.9698 - val_loss: 0.1261 - val_acc: 0.9653\n",
            "Epoch 46/200\n",
            "750/750 [==============================] - 3s 5ms/step - loss: 0.1075 - acc: 0.9701 - val_loss: 0.1247 - val_acc: 0.9656\n",
            "Epoch 47/200\n",
            "750/750 [==============================] - 4s 5ms/step - loss: 0.1056 - acc: 0.9709 - val_loss: 0.1232 - val_acc: 0.9655\n",
            "Epoch 48/200\n",
            "750/750 [==============================] - 3s 5ms/step - loss: 0.1039 - acc: 0.9714 - val_loss: 0.1221 - val_acc: 0.9648\n",
            "Epoch 49/200\n",
            "750/750 [==============================] - 3s 5ms/step - loss: 0.1022 - acc: 0.9721 - val_loss: 0.1217 - val_acc: 0.9658\n",
            "Epoch 50/200\n",
            "750/750 [==============================] - 3s 5ms/step - loss: 0.1004 - acc: 0.9726 - val_loss: 0.1200 - val_acc: 0.9662\n",
            "Epoch 51/200\n",
            "750/750 [==============================] - 4s 5ms/step - loss: 0.0991 - acc: 0.9730 - val_loss: 0.1196 - val_acc: 0.9657\n",
            "Epoch 52/200\n",
            "750/750 [==============================] - 4s 5ms/step - loss: 0.0975 - acc: 0.9735 - val_loss: 0.1181 - val_acc: 0.9663\n",
            "Epoch 53/200\n",
            "750/750 [==============================] - 3s 4ms/step - loss: 0.0959 - acc: 0.9742 - val_loss: 0.1171 - val_acc: 0.9661\n",
            "Epoch 54/200\n",
            "750/750 [==============================] - 4s 5ms/step - loss: 0.0946 - acc: 0.9745 - val_loss: 0.1159 - val_acc: 0.9668\n",
            "Epoch 55/200\n",
            "750/750 [==============================] - 3s 5ms/step - loss: 0.0929 - acc: 0.9748 - val_loss: 0.1151 - val_acc: 0.9668\n",
            "Epoch 56/200\n",
            "750/750 [==============================] - 4s 5ms/step - loss: 0.0917 - acc: 0.9752 - val_loss: 0.1143 - val_acc: 0.9675\n",
            "Epoch 57/200\n",
            "750/750 [==============================] - 4s 5ms/step - loss: 0.0903 - acc: 0.9754 - val_loss: 0.1131 - val_acc: 0.9678\n",
            "Epoch 58/200\n",
            "750/750 [==============================] - 4s 5ms/step - loss: 0.0890 - acc: 0.9763 - val_loss: 0.1120 - val_acc: 0.9681\n",
            "Epoch 59/200\n",
            "750/750 [==============================] - 3s 4ms/step - loss: 0.0877 - acc: 0.9764 - val_loss: 0.1110 - val_acc: 0.9683\n",
            "Epoch 60/200\n",
            "750/750 [==============================] - 4s 5ms/step - loss: 0.0864 - acc: 0.9771 - val_loss: 0.1112 - val_acc: 0.9677\n",
            "Epoch 61/200\n",
            "750/750 [==============================] - 4s 5ms/step - loss: 0.0853 - acc: 0.9770 - val_loss: 0.1097 - val_acc: 0.9683\n",
            "Epoch 62/200\n",
            "750/750 [==============================] - 4s 5ms/step - loss: 0.0840 - acc: 0.9776 - val_loss: 0.1090 - val_acc: 0.9680\n",
            "Epoch 63/200\n",
            "750/750 [==============================] - 4s 5ms/step - loss: 0.0829 - acc: 0.9779 - val_loss: 0.1082 - val_acc: 0.9693\n",
            "Epoch 64/200\n",
            "750/750 [==============================] - 4s 5ms/step - loss: 0.0817 - acc: 0.9782 - val_loss: 0.1079 - val_acc: 0.9683\n",
            "Epoch 65/200\n",
            "750/750 [==============================] - 4s 5ms/step - loss: 0.0806 - acc: 0.9786 - val_loss: 0.1069 - val_acc: 0.9694\n",
            "Epoch 66/200\n",
            "750/750 [==============================] - 4s 5ms/step - loss: 0.0794 - acc: 0.9789 - val_loss: 0.1066 - val_acc: 0.9693\n",
            "Epoch 67/200\n",
            "750/750 [==============================] - 3s 5ms/step - loss: 0.0784 - acc: 0.9791 - val_loss: 0.1061 - val_acc: 0.9693\n",
            "Epoch 68/200\n",
            "750/750 [==============================] - 3s 5ms/step - loss: 0.0774 - acc: 0.9794 - val_loss: 0.1048 - val_acc: 0.9695\n",
            "Epoch 69/200\n",
            "750/750 [==============================] - 4s 5ms/step - loss: 0.0764 - acc: 0.9800 - val_loss: 0.1041 - val_acc: 0.9696\n",
            "Epoch 70/200\n",
            "750/750 [==============================] - 4s 5ms/step - loss: 0.0754 - acc: 0.9802 - val_loss: 0.1033 - val_acc: 0.9700\n",
            "Epoch 71/200\n",
            "750/750 [==============================] - 4s 5ms/step - loss: 0.0745 - acc: 0.9801 - val_loss: 0.1026 - val_acc: 0.9700\n",
            "Epoch 72/200\n",
            "750/750 [==============================] - 4s 5ms/step - loss: 0.0735 - acc: 0.9807 - val_loss: 0.1028 - val_acc: 0.9696\n",
            "Epoch 73/200\n",
            "750/750 [==============================] - 4s 5ms/step - loss: 0.0726 - acc: 0.9809 - val_loss: 0.1024 - val_acc: 0.9703\n",
            "Epoch 74/200\n",
            "750/750 [==============================] - 4s 5ms/step - loss: 0.0717 - acc: 0.9807 - val_loss: 0.1013 - val_acc: 0.9703\n",
            "Epoch 75/200\n",
            "750/750 [==============================] - 3s 5ms/step - loss: 0.0708 - acc: 0.9814 - val_loss: 0.1006 - val_acc: 0.9707\n",
            "Epoch 76/200\n",
            "750/750 [==============================] - 3s 5ms/step - loss: 0.0699 - acc: 0.9818 - val_loss: 0.1005 - val_acc: 0.9703\n",
            "Epoch 77/200\n",
            "750/750 [==============================] - 3s 5ms/step - loss: 0.0691 - acc: 0.9819 - val_loss: 0.0995 - val_acc: 0.9710\n",
            "Epoch 78/200\n",
            "750/750 [==============================] - 4s 5ms/step - loss: 0.0683 - acc: 0.9821 - val_loss: 0.0990 - val_acc: 0.9717\n",
            "Epoch 79/200\n",
            "750/750 [==============================] - 3s 4ms/step - loss: 0.0674 - acc: 0.9826 - val_loss: 0.0988 - val_acc: 0.9714\n",
            "Epoch 80/200\n",
            "750/750 [==============================] - 3s 4ms/step - loss: 0.0666 - acc: 0.9826 - val_loss: 0.0982 - val_acc: 0.9718\n",
            "Epoch 81/200\n",
            "750/750 [==============================] - 3s 4ms/step - loss: 0.0659 - acc: 0.9827 - val_loss: 0.0978 - val_acc: 0.9720\n",
            "Epoch 82/200\n",
            "750/750 [==============================] - 4s 5ms/step - loss: 0.0651 - acc: 0.9830 - val_loss: 0.0977 - val_acc: 0.9718\n",
            "Epoch 83/200\n",
            "750/750 [==============================] - 4s 5ms/step - loss: 0.0643 - acc: 0.9831 - val_loss: 0.0970 - val_acc: 0.9723\n",
            "Epoch 84/200\n",
            "750/750 [==============================] - 4s 5ms/step - loss: 0.0636 - acc: 0.9834 - val_loss: 0.0963 - val_acc: 0.9720\n",
            "Epoch 85/200\n",
            "750/750 [==============================] - 4s 5ms/step - loss: 0.0629 - acc: 0.9837 - val_loss: 0.0961 - val_acc: 0.9724\n",
            "Epoch 86/200\n",
            "750/750 [==============================] - 4s 5ms/step - loss: 0.0621 - acc: 0.9837 - val_loss: 0.0958 - val_acc: 0.9723\n",
            "Epoch 87/200\n",
            "750/750 [==============================] - 4s 5ms/step - loss: 0.0614 - acc: 0.9841 - val_loss: 0.0955 - val_acc: 0.9725\n",
            "Epoch 88/200\n",
            "750/750 [==============================] - 4s 5ms/step - loss: 0.0607 - acc: 0.9842 - val_loss: 0.0953 - val_acc: 0.9725\n",
            "Epoch 89/200\n",
            "750/750 [==============================] - 4s 5ms/step - loss: 0.0601 - acc: 0.9846 - val_loss: 0.0951 - val_acc: 0.9726\n",
            "Epoch 90/200\n",
            "750/750 [==============================] - 4s 5ms/step - loss: 0.0593 - acc: 0.9849 - val_loss: 0.0942 - val_acc: 0.9726\n",
            "Epoch 91/200\n",
            "750/750 [==============================] - 3s 4ms/step - loss: 0.0587 - acc: 0.9849 - val_loss: 0.0944 - val_acc: 0.9730\n",
            "Epoch 92/200\n",
            "750/750 [==============================] - 3s 4ms/step - loss: 0.0581 - acc: 0.9851 - val_loss: 0.0933 - val_acc: 0.9728\n",
            "Epoch 93/200\n",
            "750/750 [==============================] - 3s 5ms/step - loss: 0.0575 - acc: 0.9852 - val_loss: 0.0932 - val_acc: 0.9729\n",
            "Epoch 94/200\n",
            "750/750 [==============================] - 4s 5ms/step - loss: 0.0568 - acc: 0.9856 - val_loss: 0.0930 - val_acc: 0.9730\n",
            "Epoch 95/200\n",
            "750/750 [==============================] - 4s 5ms/step - loss: 0.0562 - acc: 0.9859 - val_loss: 0.0931 - val_acc: 0.9727\n",
            "Epoch 96/200\n",
            "750/750 [==============================] - 4s 5ms/step - loss: 0.0556 - acc: 0.9860 - val_loss: 0.0925 - val_acc: 0.9734\n",
            "Epoch 97/200\n",
            "750/750 [==============================] - 4s 5ms/step - loss: 0.0550 - acc: 0.9861 - val_loss: 0.0923 - val_acc: 0.9730\n",
            "Epoch 98/200\n",
            "750/750 [==============================] - 3s 5ms/step - loss: 0.0545 - acc: 0.9866 - val_loss: 0.0919 - val_acc: 0.9734\n",
            "Epoch 99/200\n",
            "750/750 [==============================] - 4s 5ms/step - loss: 0.0539 - acc: 0.9864 - val_loss: 0.0915 - val_acc: 0.9734\n",
            "Epoch 100/200\n",
            "750/750 [==============================] - 4s 5ms/step - loss: 0.0533 - acc: 0.9867 - val_loss: 0.0915 - val_acc: 0.9736\n",
            "Epoch 101/200\n",
            "750/750 [==============================] - 4s 5ms/step - loss: 0.0528 - acc: 0.9870 - val_loss: 0.0916 - val_acc: 0.9739\n",
            "Epoch 102/200\n",
            "750/750 [==============================] - 4s 5ms/step - loss: 0.0522 - acc: 0.9869 - val_loss: 0.0908 - val_acc: 0.9736\n",
            "Epoch 103/200\n",
            "750/750 [==============================] - 4s 5ms/step - loss: 0.0517 - acc: 0.9873 - val_loss: 0.0907 - val_acc: 0.9738\n",
            "Epoch 104/200\n",
            "750/750 [==============================] - 4s 5ms/step - loss: 0.0512 - acc: 0.9875 - val_loss: 0.0908 - val_acc: 0.9739\n",
            "Epoch 105/200\n",
            "750/750 [==============================] - 4s 5ms/step - loss: 0.0506 - acc: 0.9874 - val_loss: 0.0900 - val_acc: 0.9741\n",
            "Epoch 106/200\n",
            "750/750 [==============================] - 4s 5ms/step - loss: 0.0502 - acc: 0.9877 - val_loss: 0.0894 - val_acc: 0.9737\n",
            "Epoch 107/200\n",
            "750/750 [==============================] - 4s 6ms/step - loss: 0.0497 - acc: 0.9880 - val_loss: 0.0900 - val_acc: 0.9738\n",
            "Epoch 108/200\n",
            "750/750 [==============================] - 4s 5ms/step - loss: 0.0491 - acc: 0.9881 - val_loss: 0.0892 - val_acc: 0.9746\n",
            "Epoch 109/200\n",
            "750/750 [==============================] - 4s 5ms/step - loss: 0.0487 - acc: 0.9882 - val_loss: 0.0893 - val_acc: 0.9740\n",
            "Epoch 110/200\n",
            "750/750 [==============================] - 4s 5ms/step - loss: 0.0481 - acc: 0.9883 - val_loss: 0.0888 - val_acc: 0.9743\n",
            "Epoch 111/200\n",
            "750/750 [==============================] - 3s 4ms/step - loss: 0.0477 - acc: 0.9885 - val_loss: 0.0885 - val_acc: 0.9741\n",
            "Epoch 112/200\n",
            "750/750 [==============================] - 3s 4ms/step - loss: 0.0472 - acc: 0.9886 - val_loss: 0.0884 - val_acc: 0.9741\n",
            "Epoch 113/200\n",
            "750/750 [==============================] - 3s 4ms/step - loss: 0.0468 - acc: 0.9888 - val_loss: 0.0882 - val_acc: 0.9743\n",
            "Epoch 114/200\n",
            "750/750 [==============================] - 3s 5ms/step - loss: 0.0463 - acc: 0.9891 - val_loss: 0.0883 - val_acc: 0.9743\n",
            "Epoch 115/200\n",
            "750/750 [==============================] - 4s 5ms/step - loss: 0.0459 - acc: 0.9889 - val_loss: 0.0879 - val_acc: 0.9743\n",
            "Epoch 116/200\n",
            "750/750 [==============================] - 3s 5ms/step - loss: 0.0454 - acc: 0.9893 - val_loss: 0.0883 - val_acc: 0.9740\n",
            "Epoch 117/200\n",
            "750/750 [==============================] - 4s 5ms/step - loss: 0.0450 - acc: 0.9892 - val_loss: 0.0879 - val_acc: 0.9745\n",
            "Epoch 118/200\n",
            "750/750 [==============================] - 3s 4ms/step - loss: 0.0445 - acc: 0.9897 - val_loss: 0.0874 - val_acc: 0.9742\n",
            "Epoch 119/200\n",
            "750/750 [==============================] - 3s 4ms/step - loss: 0.0441 - acc: 0.9896 - val_loss: 0.0871 - val_acc: 0.9745\n",
            "Epoch 120/200\n",
            "750/750 [==============================] - 4s 5ms/step - loss: 0.0437 - acc: 0.9897 - val_loss: 0.0875 - val_acc: 0.9747\n",
            "Epoch 121/200\n",
            "750/750 [==============================] - 4s 5ms/step - loss: 0.0433 - acc: 0.9899 - val_loss: 0.0871 - val_acc: 0.9747\n",
            "Epoch 122/200\n",
            "750/750 [==============================] - 3s 4ms/step - loss: 0.0430 - acc: 0.9898 - val_loss: 0.0868 - val_acc: 0.9747\n",
            "Epoch 123/200\n",
            "750/750 [==============================] - 4s 5ms/step - loss: 0.0425 - acc: 0.9900 - val_loss: 0.0873 - val_acc: 0.9741\n",
            "Epoch 124/200\n",
            "750/750 [==============================] - 4s 6ms/step - loss: 0.0421 - acc: 0.9903 - val_loss: 0.0865 - val_acc: 0.9753\n",
            "Epoch 125/200\n",
            "750/750 [==============================] - 4s 5ms/step - loss: 0.0418 - acc: 0.9904 - val_loss: 0.0865 - val_acc: 0.9748\n",
            "Epoch 126/200\n",
            "750/750 [==============================] - 4s 5ms/step - loss: 0.0414 - acc: 0.9904 - val_loss: 0.0862 - val_acc: 0.9743\n",
            "Epoch 127/200\n",
            "750/750 [==============================] - 3s 4ms/step - loss: 0.0410 - acc: 0.9905 - val_loss: 0.0858 - val_acc: 0.9747\n",
            "Epoch 128/200\n",
            "750/750 [==============================] - 4s 5ms/step - loss: 0.0406 - acc: 0.9909 - val_loss: 0.0857 - val_acc: 0.9749\n",
            "Epoch 129/200\n",
            "750/750 [==============================] - 4s 5ms/step - loss: 0.0403 - acc: 0.9909 - val_loss: 0.0856 - val_acc: 0.9753\n",
            "Epoch 130/200\n",
            "750/750 [==============================] - 3s 4ms/step - loss: 0.0399 - acc: 0.9911 - val_loss: 0.0856 - val_acc: 0.9747\n",
            "Epoch 131/200\n",
            "750/750 [==============================] - 3s 4ms/step - loss: 0.0395 - acc: 0.9911 - val_loss: 0.0855 - val_acc: 0.9744\n",
            "Epoch 132/200\n",
            "750/750 [==============================] - 4s 5ms/step - loss: 0.0391 - acc: 0.9910 - val_loss: 0.0854 - val_acc: 0.9752\n",
            "Epoch 133/200\n",
            "750/750 [==============================] - 3s 4ms/step - loss: 0.0388 - acc: 0.9912 - val_loss: 0.0850 - val_acc: 0.9753\n",
            "Epoch 134/200\n",
            "750/750 [==============================] - 4s 5ms/step - loss: 0.0385 - acc: 0.9913 - val_loss: 0.0850 - val_acc: 0.9751\n",
            "Epoch 135/200\n",
            "750/750 [==============================] - 3s 5ms/step - loss: 0.0381 - acc: 0.9915 - val_loss: 0.0851 - val_acc: 0.9751\n",
            "Epoch 136/200\n",
            "750/750 [==============================] - 4s 5ms/step - loss: 0.0378 - acc: 0.9916 - val_loss: 0.0853 - val_acc: 0.9752\n",
            "Epoch 137/200\n",
            "750/750 [==============================] - 4s 5ms/step - loss: 0.0375 - acc: 0.9915 - val_loss: 0.0847 - val_acc: 0.9749\n",
            "Epoch 138/200\n",
            "750/750 [==============================] - 4s 5ms/step - loss: 0.0371 - acc: 0.9918 - val_loss: 0.0846 - val_acc: 0.9753\n",
            "Epoch 139/200\n",
            "750/750 [==============================] - 3s 4ms/step - loss: 0.0368 - acc: 0.9918 - val_loss: 0.0850 - val_acc: 0.9752\n",
            "Epoch 140/200\n",
            "750/750 [==============================] - 4s 5ms/step - loss: 0.0364 - acc: 0.9920 - val_loss: 0.0844 - val_acc: 0.9752\n",
            "Epoch 141/200\n",
            "750/750 [==============================] - 4s 5ms/step - loss: 0.0362 - acc: 0.9921 - val_loss: 0.0846 - val_acc: 0.9750\n",
            "Epoch 142/200\n",
            "750/750 [==============================] - 3s 5ms/step - loss: 0.0358 - acc: 0.9922 - val_loss: 0.0850 - val_acc: 0.9754\n",
            "Epoch 143/200\n",
            "750/750 [==============================] - 4s 5ms/step - loss: 0.0356 - acc: 0.9923 - val_loss: 0.0844 - val_acc: 0.9753\n",
            "Epoch 144/200\n",
            "750/750 [==============================] - 4s 5ms/step - loss: 0.0352 - acc: 0.9923 - val_loss: 0.0847 - val_acc: 0.9750\n",
            "Epoch 145/200\n",
            "750/750 [==============================] - 3s 5ms/step - loss: 0.0349 - acc: 0.9926 - val_loss: 0.0842 - val_acc: 0.9753\n",
            "Epoch 146/200\n",
            "750/750 [==============================] - 4s 5ms/step - loss: 0.0346 - acc: 0.9925 - val_loss: 0.0837 - val_acc: 0.9756\n",
            "Epoch 147/200\n",
            "750/750 [==============================] - 4s 5ms/step - loss: 0.0344 - acc: 0.9924 - val_loss: 0.0841 - val_acc: 0.9758\n",
            "Epoch 148/200\n",
            "750/750 [==============================] - 4s 5ms/step - loss: 0.0340 - acc: 0.9926 - val_loss: 0.0838 - val_acc: 0.9755\n",
            "Epoch 149/200\n",
            "750/750 [==============================] - 4s 5ms/step - loss: 0.0338 - acc: 0.9926 - val_loss: 0.0840 - val_acc: 0.9758\n",
            "Epoch 150/200\n",
            "750/750 [==============================] - 4s 5ms/step - loss: 0.0335 - acc: 0.9931 - val_loss: 0.0840 - val_acc: 0.9759\n",
            "Epoch 151/200\n",
            "750/750 [==============================] - 4s 5ms/step - loss: 0.0332 - acc: 0.9928 - val_loss: 0.0838 - val_acc: 0.9759\n",
            "Epoch 152/200\n",
            "750/750 [==============================] - 3s 5ms/step - loss: 0.0329 - acc: 0.9930 - val_loss: 0.0836 - val_acc: 0.9757\n",
            "Epoch 153/200\n",
            "750/750 [==============================] - 4s 5ms/step - loss: 0.0326 - acc: 0.9929 - val_loss: 0.0834 - val_acc: 0.9758\n",
            "Epoch 154/200\n",
            "750/750 [==============================] - 4s 5ms/step - loss: 0.0323 - acc: 0.9931 - val_loss: 0.0834 - val_acc: 0.9757\n",
            "Epoch 155/200\n",
            "750/750 [==============================] - 3s 5ms/step - loss: 0.0321 - acc: 0.9932 - val_loss: 0.0833 - val_acc: 0.9755\n",
            "Epoch 156/200\n",
            "750/750 [==============================] - 4s 5ms/step - loss: 0.0318 - acc: 0.9934 - val_loss: 0.0835 - val_acc: 0.9759\n",
            "Epoch 157/200\n",
            "750/750 [==============================] - 4s 5ms/step - loss: 0.0315 - acc: 0.9934 - val_loss: 0.0834 - val_acc: 0.9756\n",
            "Epoch 158/200\n",
            "750/750 [==============================] - 4s 5ms/step - loss: 0.0313 - acc: 0.9936 - val_loss: 0.0836 - val_acc: 0.9757\n",
            "Epoch 159/200\n",
            "750/750 [==============================] - 3s 4ms/step - loss: 0.0310 - acc: 0.9936 - val_loss: 0.0833 - val_acc: 0.9755\n",
            "Epoch 160/200\n",
            "750/750 [==============================] - 4s 5ms/step - loss: 0.0308 - acc: 0.9938 - val_loss: 0.0833 - val_acc: 0.9762\n",
            "Epoch 161/200\n",
            "750/750 [==============================] - 3s 5ms/step - loss: 0.0305 - acc: 0.9938 - val_loss: 0.0830 - val_acc: 0.9757\n",
            "Epoch 162/200\n",
            "750/750 [==============================] - 4s 5ms/step - loss: 0.0303 - acc: 0.9941 - val_loss: 0.0833 - val_acc: 0.9760\n",
            "Epoch 163/200\n",
            "750/750 [==============================] - 4s 5ms/step - loss: 0.0300 - acc: 0.9938 - val_loss: 0.0831 - val_acc: 0.9760\n",
            "Epoch 164/200\n",
            "750/750 [==============================] - 3s 5ms/step - loss: 0.0298 - acc: 0.9940 - val_loss: 0.0831 - val_acc: 0.9758\n",
            "Epoch 165/200\n",
            "750/750 [==============================] - 4s 5ms/step - loss: 0.0295 - acc: 0.9944 - val_loss: 0.0828 - val_acc: 0.9754\n",
            "Epoch 166/200\n",
            "750/750 [==============================] - 3s 4ms/step - loss: 0.0293 - acc: 0.9942 - val_loss: 0.0828 - val_acc: 0.9763\n",
            "Epoch 167/200\n",
            "750/750 [==============================] - 3s 5ms/step - loss: 0.0291 - acc: 0.9943 - val_loss: 0.0826 - val_acc: 0.9758\n",
            "Epoch 168/200\n",
            "750/750 [==============================] - 3s 5ms/step - loss: 0.0289 - acc: 0.9944 - val_loss: 0.0829 - val_acc: 0.9760\n",
            "Epoch 169/200\n",
            "750/750 [==============================] - 3s 4ms/step - loss: 0.0286 - acc: 0.9946 - val_loss: 0.0827 - val_acc: 0.9759\n",
            "Epoch 170/200\n",
            "750/750 [==============================] - 3s 4ms/step - loss: 0.0284 - acc: 0.9943 - val_loss: 0.0826 - val_acc: 0.9758\n",
            "Epoch 171/200\n",
            "750/750 [==============================] - 4s 5ms/step - loss: 0.0282 - acc: 0.9946 - val_loss: 0.0830 - val_acc: 0.9760\n",
            "Epoch 172/200\n",
            "750/750 [==============================] - 3s 4ms/step - loss: 0.0279 - acc: 0.9946 - val_loss: 0.0823 - val_acc: 0.9760\n",
            "Epoch 173/200\n",
            "750/750 [==============================] - 3s 4ms/step - loss: 0.0277 - acc: 0.9946 - val_loss: 0.0824 - val_acc: 0.9760\n",
            "Epoch 174/200\n",
            "750/750 [==============================] - 4s 5ms/step - loss: 0.0276 - acc: 0.9947 - val_loss: 0.0824 - val_acc: 0.9765\n",
            "Epoch 175/200\n",
            "750/750 [==============================] - 3s 5ms/step - loss: 0.0273 - acc: 0.9948 - val_loss: 0.0827 - val_acc: 0.9758\n",
            "Epoch 176/200\n",
            "750/750 [==============================] - 4s 5ms/step - loss: 0.0271 - acc: 0.9949 - val_loss: 0.0825 - val_acc: 0.9757\n",
            "Epoch 177/200\n",
            "750/750 [==============================] - 4s 5ms/step - loss: 0.0269 - acc: 0.9949 - val_loss: 0.0827 - val_acc: 0.9764\n",
            "Epoch 178/200\n",
            "750/750 [==============================] - 3s 5ms/step - loss: 0.0266 - acc: 0.9951 - val_loss: 0.0824 - val_acc: 0.9762\n",
            "Epoch 179/200\n",
            "750/750 [==============================] - 3s 5ms/step - loss: 0.0265 - acc: 0.9951 - val_loss: 0.0827 - val_acc: 0.9762\n",
            "Epoch 180/200\n",
            "750/750 [==============================] - 4s 5ms/step - loss: 0.0262 - acc: 0.9950 - val_loss: 0.0829 - val_acc: 0.9760\n",
            "Epoch 181/200\n",
            "750/750 [==============================] - 3s 5ms/step - loss: 0.0261 - acc: 0.9951 - val_loss: 0.0823 - val_acc: 0.9760\n",
            "Epoch 182/200\n",
            "750/750 [==============================] - 3s 5ms/step - loss: 0.0258 - acc: 0.9954 - val_loss: 0.0825 - val_acc: 0.9762\n",
            "Epoch 183/200\n",
            "750/750 [==============================] - 3s 4ms/step - loss: 0.0257 - acc: 0.9954 - val_loss: 0.0822 - val_acc: 0.9762\n",
            "Epoch 184/200\n",
            "750/750 [==============================] - 3s 5ms/step - loss: 0.0254 - acc: 0.9953 - val_loss: 0.0823 - val_acc: 0.9766\n",
            "Epoch 185/200\n",
            "750/750 [==============================] - 3s 4ms/step - loss: 0.0253 - acc: 0.9954 - val_loss: 0.0821 - val_acc: 0.9762\n",
            "Epoch 186/200\n",
            "750/750 [==============================] - 4s 5ms/step - loss: 0.0251 - acc: 0.9954 - val_loss: 0.0824 - val_acc: 0.9762\n",
            "Epoch 187/200\n",
            "750/750 [==============================] - 3s 4ms/step - loss: 0.0249 - acc: 0.9955 - val_loss: 0.0822 - val_acc: 0.9763\n",
            "Epoch 188/200\n",
            "750/750 [==============================] - 4s 5ms/step - loss: 0.0247 - acc: 0.9955 - val_loss: 0.0822 - val_acc: 0.9763\n",
            "Epoch 189/200\n",
            "750/750 [==============================] - 4s 5ms/step - loss: 0.0245 - acc: 0.9956 - val_loss: 0.0822 - val_acc: 0.9765\n",
            "Epoch 190/200\n",
            "750/750 [==============================] - 4s 5ms/step - loss: 0.0243 - acc: 0.9956 - val_loss: 0.0823 - val_acc: 0.9763\n",
            "Epoch 191/200\n",
            "750/750 [==============================] - 4s 5ms/step - loss: 0.0242 - acc: 0.9960 - val_loss: 0.0825 - val_acc: 0.9763\n",
            "Epoch 192/200\n",
            "750/750 [==============================] - 3s 4ms/step - loss: 0.0239 - acc: 0.9959 - val_loss: 0.0823 - val_acc: 0.9757\n",
            "Epoch 193/200\n",
            "750/750 [==============================] - 3s 4ms/step - loss: 0.0238 - acc: 0.9958 - val_loss: 0.0821 - val_acc: 0.9767\n",
            "Epoch 194/200\n",
            "750/750 [==============================] - 4s 5ms/step - loss: 0.0236 - acc: 0.9959 - val_loss: 0.0826 - val_acc: 0.9766\n",
            "Epoch 195/200\n",
            "750/750 [==============================] - 4s 5ms/step - loss: 0.0234 - acc: 0.9959 - val_loss: 0.0821 - val_acc: 0.9766\n",
            "Epoch 196/200\n",
            "750/750 [==============================] - 3s 5ms/step - loss: 0.0232 - acc: 0.9959 - val_loss: 0.0824 - val_acc: 0.9767\n",
            "Epoch 197/200\n",
            "750/750 [==============================] - 4s 5ms/step - loss: 0.0231 - acc: 0.9960 - val_loss: 0.0818 - val_acc: 0.9765\n",
            "Epoch 198/200\n",
            "750/750 [==============================] - 3s 4ms/step - loss: 0.0229 - acc: 0.9964 - val_loss: 0.0820 - val_acc: 0.9770\n",
            "Epoch 199/200\n",
            "750/750 [==============================] - 4s 5ms/step - loss: 0.0228 - acc: 0.9962 - val_loss: 0.0823 - val_acc: 0.9768\n",
            "Epoch 200/200\n",
            "750/750 [==============================] - 4s 5ms/step - loss: 0.0225 - acc: 0.9961 - val_loss: 0.0819 - val_acc: 0.9765\n"
          ]
        }
      ]
    },
    {
      "cell_type": "code",
      "metadata": {
        "colab": {
          "base_uri": "https://localhost:8080/"
        },
        "id": "LUZw-xQHOzIC",
        "outputId": "8a392d9f-12eb-4566-94ae-fb91e3a617ed"
      },
      "source": [
        "model_history.history.keys()"
      ],
      "execution_count": 25,
      "outputs": [
        {
          "output_type": "execute_result",
          "data": {
            "text/plain": [
              "dict_keys(['loss', 'acc', 'val_loss', 'val_acc'])"
            ]
          },
          "metadata": {},
          "execution_count": 25
        }
      ]
    },
    {
      "cell_type": "code",
      "metadata": {
        "colab": {
          "base_uri": "https://localhost:8080/",
          "height": 428
        },
        "id": "8Ag2xQUTVFFV",
        "outputId": "b1d9e017-b7bb-4167-9763-45be697f71ce"
      },
      "source": [
        "plt.figure(figsize=(12, 7))\n",
        "plt.plot(model_history.history.get(\"acc\"), label=\"Acc\")\n",
        "plt.plot(model_history.history.get(\"val_acc\"), label=\"Val Acc\")\n",
        "plt.legend()\n",
        "plt.show()"
      ],
      "execution_count": 26,
      "outputs": [
        {
          "output_type": "display_data",
          "data": {
            "text/plain": [
              "<Figure size 864x504 with 1 Axes>"
            ],
            "image/png": "[encoded data removed]"
          },
          "metadata": {
            "needs_background": "light"
          }
        }
      ]
    },
    {
      "cell_type": "code",
      "metadata": {
        "colab": {
          "base_uri": "https://localhost:8080/",
          "height": 428
        },
        "id": "oslOLt4NVWjM",
        "outputId": "0b5e6142-c0da-4fdc-d7cf-270472520076"
      },
      "source": [
        "plt.figure(figsize=(12, 7))\n",
        "plt.plot(model_history.history.get(\"loss\"), label=\"Loss\")\n",
        "plt.plot(model_history.history.get(\"val_loss\"), label=\"Val Loss\")\n",
        "plt.legend()\n",
        "plt.show()"
      ],
      "execution_count": 27,
      "outputs": [
        {
          "output_type": "display_data",
          "data": {
            "text/plain": [
              "<Figure size 864x504 with 1 Axes>"
            ],
            "image/png": "[encoded data removed]"
          },
          "metadata": {
            "needs_background": "light"
          }
        }
      ]
    },
    {
      "cell_type": "code",
      "metadata": {
        "id": "4LUb8LVlV0bL"
      },
      "source": [
        "# Testing \n",
        "x_test = x_test / 255.0 \n",
        "y_test = to_categorical(y_test)"
      ],
      "execution_count": 28,
      "outputs": []
    },
    {
      "cell_type": "code",
      "metadata": {
        "colab": {
          "base_uri": "https://localhost:8080/"
        },
        "id": "yrFs_ZkSWIxu",
        "outputId": "ac5eb37e-ee7b-43e1-8a27-a4f187e31d5f"
      },
      "source": [
        "model.evaluate(x_test, y_test, batch_size=64)"
      ],
      "execution_count": 29,
      "outputs": [
        {
          "output_type": "stream",
          "name": "stdout",
          "text": [
            "157/157 [==============================] - 0s 3ms/step - loss: 0.0713 - acc: 0.9786\n"
          ]
        },
        {
          "output_type": "execute_result",
          "data": {
            "text/plain": [
              "[0.07127048820257187, 0.978600025177002]"
            ]
          },
          "metadata": {},
          "execution_count": 29
        }
      ]
    },
    {
      "cell_type": "code",
      "metadata": {
        "id": "xTK4wIDvWOVW"
      },
      "source": [
        "# 0.07 - test_loss \n",
        "# 0.97 - test_acc"
      ],
      "execution_count": 30,
      "outputs": []
    },
    {
      "cell_type": "code",
      "metadata": {
        "id": "EvYMNOf1WXyn"
      },
      "source": [
        "# Prediciton"
      ],
      "execution_count": 31,
      "outputs": []
    },
    {
      "cell_type": "code",
      "metadata": {
        "colab": {
          "base_uri": "https://localhost:8080/",
          "height": 282
        },
        "id": "69Bt-UiqWgnE",
        "outputId": "b02f5fce-8481-4fc3-dede-272b541f67f6"
      },
      "source": [
        "test_image = x_test[7]\n",
        "plt.imshow(test_image)"
      ],
      "execution_count": 32,
      "outputs": [
        {
          "output_type": "execute_result",
          "data": {
            "text/plain": [
              "<matplotlib.image.AxesImage at 0x7f9f8319c9d0>"
            ]
          },
          "metadata": {},
          "execution_count": 32
        },
        {
          "output_type": "display_data",
          "data": {
            "text/plain": [
              "<Figure size 432x288 with 1 Axes>"
            ],
            "image/png": "[encoded data removed]"
          },
          "metadata": {
            "needs_background": "light"
          }
        }
      ]
    },
    {
      "cell_type": "code",
      "metadata": {
        "id": "SOYjnwEWWmUP"
      },
      "source": [
        "#model.predict(test_image) will fail ?? why "
      ],
      "execution_count": 33,
      "outputs": []
    },
    {
      "cell_type": "code",
      "metadata": {
        "colab": {
          "base_uri": "https://localhost:8080/"
        },
        "id": "ETPasDRzWqz-",
        "outputId": "cd0dbb3f-2667-493f-9326-96409ba540df"
      },
      "source": [
        "test_image.shape"
      ],
      "execution_count": 34,
      "outputs": [
        {
          "output_type": "execute_result",
          "data": {
            "text/plain": [
              "(28, 28)"
            ]
          },
          "metadata": {},
          "execution_count": 34
        }
      ]
    },
    {
      "cell_type": "code",
      "metadata": {
        "colab": {
          "base_uri": "https://localhost:8080/"
        },
        "id": "CnXmc_ASWzFW",
        "outputId": "d0e98cdd-c356-4f14-c503-93b482e7d4c9"
      },
      "source": [
        "model.input_shape"
      ],
      "execution_count": 35,
      "outputs": [
        {
          "output_type": "execute_result",
          "data": {
            "text/plain": [
              "(None, 28, 28)"
            ]
          },
          "metadata": {},
          "execution_count": 35
        }
      ]
    },
    {
      "cell_type": "code",
      "metadata": {
        "id": "1ktt4oPGW137"
      },
      "source": [
        "# if 1 image is used for prediction then technically the shape of image should be (1, 28, 28)\n",
        "# if 10 image is used for prediction then technically the shape of image should be (10, 28, 28)"
      ],
      "execution_count": 36,
      "outputs": []
    },
    {
      "cell_type": "code",
      "metadata": {
        "id": "-lKzZTbTXEBg"
      },
      "source": [
        "test_image2 = np.expand_dims(test_image, axis=0)"
      ],
      "execution_count": 37,
      "outputs": []
    },
    {
      "cell_type": "code",
      "metadata": {
        "colab": {
          "base_uri": "https://localhost:8080/"
        },
        "id": "N48TzKOTXS2w",
        "outputId": "cd0e9677-4209-444b-ce55-d796386a7898"
      },
      "source": [
        "test_image2.shape"
      ],
      "execution_count": 38,
      "outputs": [
        {
          "output_type": "execute_result",
          "data": {
            "text/plain": [
              "(1, 28, 28)"
            ]
          },
          "metadata": {},
          "execution_count": 38
        }
      ]
    },
    {
      "cell_type": "code",
      "metadata": {
        "colab": {
          "base_uri": "https://localhost:8080/"
        },
        "id": "TEB4AIckXWuM",
        "outputId": "14ac6cda-f7b6-4d96-ddf6-2ce42f85c4f0"
      },
      "source": [
        "result = model.predict(test_image2) # these are 10 probabilities for each digit... \n",
        "# we should take the one with highest probability\n",
        "result"
      ],
      "execution_count": 39,
      "outputs": [
        {
          "output_type": "execute_result",
          "data": {
            "text/plain": [
              "array([[1.0006566e-07, 8.6283071e-06, 4.1670024e-05, 5.9046492e-04,\n",
              "        2.6131814e-04, 2.8122454e-06, 1.6361964e-08, 2.5193985e-05,\n",
              "        2.0984640e-05, 9.9904877e-01]], dtype=float32)"
            ]
          },
          "metadata": {},
          "execution_count": 39
        }
      ]
    },
    {
      "cell_type": "code",
      "metadata": {
        "colab": {
          "base_uri": "https://localhost:8080/"
        },
        "id": "VZF4xlocXY4R",
        "outputId": "854c2ec7-7144-490c-e20a-e9e5a8a9ef28"
      },
      "source": [
        "np.argmax(result)"
      ],
      "execution_count": 40,
      "outputs": [
        {
          "output_type": "execute_result",
          "data": {
            "text/plain": [
              "9"
            ]
          },
          "metadata": {},
          "execution_count": 40
        }
      ]
    },
    {
      "cell_type": "code",
      "metadata": {
        "id": "rBvO2fiNZULa"
      },
      "source": [
        "from tensorflow.keras.datasets import fashion_mnist"
      ],
      "execution_count": 41,
      "outputs": []
    },
    {
      "cell_type": "code",
      "metadata": {
        "id": "7op5ismyZUIZ"
      },
      "source": [
        "y_pred = model.predict(x_test)"
      ],
      "execution_count": 42,
      "outputs": []
    },
    {
      "cell_type": "code",
      "metadata": {
        "colab": {
          "base_uri": "https://localhost:8080/"
        },
        "id": "P0pI2YvXZUAN",
        "outputId": "8487206c-5088-4041-e203-9f373b4a5a59"
      },
      "source": [
        "np.argmax(y_pred, axis=1)"
      ],
      "execution_count": 43,
      "outputs": [
        {
          "output_type": "execute_result",
          "data": {
            "text/plain": [
              "array([7, 2, 1, ..., 4, 5, 6])"
            ]
          },
          "metadata": {},
          "execution_count": 43
        }
      ]
    },
    {
      "cell_type": "code",
      "metadata": {
        "colab": {
          "base_uri": "https://localhost:8080/"
        },
        "id": "WagqzvgvZqsV",
        "outputId": "35c52e80-fd4d-457a-f07c-adf682a39aaa"
      },
      "source": [
        "np.argmax(y_test, axis=1)"
      ],
      "execution_count": 44,
      "outputs": [
        {
          "output_type": "execute_result",
          "data": {
            "text/plain": [
              "array([7, 2, 1, ..., 4, 5, 6])"
            ]
          },
          "metadata": {},
          "execution_count": 44
        }
      ]
    },
    {
      "cell_type": "code",
      "metadata": {
        "id": "1Gkolc0wZyBL"
      },
      "source": [
        "result = (np.argmax(y_pred, axis=1) == np.argmax(y_test, axis=1))"
      ],
      "execution_count": 45,
      "outputs": []
    },
    {
      "cell_type": "code",
      "metadata": {
        "colab": {
          "base_uri": "https://localhost:8080/"
        },
        "id": "JrSwfIK5Z7aK",
        "outputId": "6b5ad522-c79d-4b95-c69e-241dd6c9117d"
      },
      "source": [
        "np.where(result == False)"
      ],
      "execution_count": 46,
      "outputs": [
        {
          "output_type": "execute_result",
          "data": {
            "text/plain": [
              "(array([   8,  149,  247,  321,  340,  381,  445,  449,  495,  582,  629,\n",
              "         659,  684,  707,  720,  740,  965, 1014, 1032, 1107, 1112, 1128,\n",
              "        1166, 1178, 1181, 1182, 1224, 1226, 1232, 1242, 1247, 1299, 1319,\n",
              "        1328, 1378, 1393, 1444, 1494, 1500, 1522, 1530, 1549, 1553, 1581,\n",
              "        1609, 1626, 1681, 1709, 1717, 1751, 1790, 1878, 1901, 1941, 1984,\n",
              "        1987, 2016, 2018, 2024, 2033, 2035, 2043, 2044, 2052, 2053, 2098,\n",
              "        2109, 2118, 2129, 2130, 2135, 2182, 2189, 2272, 2293, 2369, 2387,\n",
              "        2395, 2406, 2422, 2454, 2488, 2514, 2597, 2607, 2648, 2654, 2720,\n",
              "        2877, 2896, 2915, 2921, 2939, 2953, 3073, 3117, 3422, 3490, 3503,\n",
              "        3520, 3549, 3558, 3597, 3718, 3727, 3757, 3767, 3780, 3808, 3811,\n",
              "        3817, 3838, 3853, 3893, 3906, 3941, 3943, 3985, 4065, 4075, 4078,\n",
              "        4163, 4176, 4199, 4201, 4224, 4248, 4271, 4289, 4294, 4497, 4536,\n",
              "        4548, 4601, 4761, 4807, 4814, 4823, 4860, 4879, 4880, 4966, 4990,\n",
              "        5199, 5331, 5457, 5600, 5642, 5676, 5734, 5749, 5842, 5887, 5926,\n",
              "        5936, 5937, 5955, 5972, 5973, 5981, 6011, 6023, 6024, 6045, 6046,\n",
              "        6059, 6166, 6400, 6505, 6532, 6560, 6571, 6572, 6597, 6625, 6651,\n",
              "        6783, 7216, 7434, 7856, 7886, 7902, 8020, 8094, 8183, 8277, 8311,\n",
              "        8408, 8502, 8520, 8522, 8527, 9009, 9015, 9019, 9024, 9071, 9280,\n",
              "        9587, 9664, 9679, 9692, 9729, 9745, 9749, 9768, 9770, 9779, 9792,\n",
              "        9808, 9839, 9944, 9975, 9982]),)"
            ]
          },
          "metadata": {},
          "execution_count": 46
        }
      ]
    },
    {
      "cell_type": "code",
      "metadata": {
        "colab": {
          "base_uri": "https://localhost:8080/",
          "height": 300
        },
        "id": "9XlKNQ-7Z8V4",
        "outputId": "a5aa2961-4fc6-48c2-d125-7ff675a8246e"
      },
      "source": [
        "num = 1527\n",
        "plt.imshow(x_test[num])\n",
        "print(f\"Label was - {np.argmax(y_test[num])}\")\n",
        "print(f\"Model predicted - {np.argmax(y_pred[num])}\")"
      ],
      "execution_count": 47,
      "outputs": [
        {
          "output_type": "stream",
          "name": "stdout",
          "text": [
            "Label was - 1\n",
            "Model predicted - 1\n"
          ]
        },
        {
          "output_type": "display_data",
          "data": {
            "text/plain": [
              "<Figure size 432x288 with 1 Axes>"
            ],
            "image/png": "[encoded data removed]"
          },
          "metadata": {
            "needs_background": "light"
          }
        }
      ]
    },
    {
      "cell_type": "code",
      "metadata": {
        "id": "GewGi6hbaC6K"
      },
      "source": [
        "from sklearn.metrics import confusion_matrix"
      ],
      "execution_count": 48,
      "outputs": []
    },
    {
      "cell_type": "code",
      "metadata": {
        "colab": {
          "base_uri": "https://localhost:8080/"
        },
        "id": "o-31WBP9bABB",
        "outputId": "144864bf-bf23-4021-fc91-be8535fefc42"
      },
      "source": [
        "confusion_matrix(np.argmax(y_test, axis=1), np.argmax(y_pred, axis=1))"
      ],
      "execution_count": 49,
      "outputs": [
        {
          "output_type": "execute_result",
          "data": {
            "text/plain": [
              "array([[ 971,    0,    0,    1,    2,    2,    1,    1,    1,    1],\n",
              "       [   0, 1122,    2,    1,    0,    1,    2,    2,    5,    0],\n",
              "       [   4,    1, 1010,    1,    5,    0,    2,    6,    3,    0],\n",
              "       [   1,    0,    4,  988,    0,    4,    0,    4,    7,    2],\n",
              "       [   0,    0,    5,    1,  955,    0,    3,    3,    2,   13],\n",
              "       [   2,    0,    0,    8,    0,  869,    7,    1,    3,    2],\n",
              "       [   6,    3,    0,    0,    4,    4,  938,    1,    2,    0],\n",
              "       [   1,    3,    8,    3,    0,    1,    0, 1004,    2,    6],\n",
              "       [   3,    0,    3,    7,    4,    2,    3,    2,  950,    0],\n",
              "       [   4,    3,    0,    5,    6,    2,    1,    5,    4,  979]])"
            ]
          },
          "metadata": {},
          "execution_count": 49
        }
      ]
    },
    {
      "cell_type": "code",
      "metadata": {
        "colab": {
          "base_uri": "https://localhost:8080/",
          "height": 445
        },
        "id": "y1YK34PibIbX",
        "outputId": "68240509-5d76-45e6-ed8a-df8443f51138"
      },
      "source": [
        "plt.figure(figsize=(14, 7))\n",
        "sns.heatmap(confusion_matrix(np.argmax(y_test, axis=1), np.argmax(y_pred, axis=1)), annot=True, cmap=\"Greens\", fmt='d')"
      ],
      "execution_count": 50,
      "outputs": [
        {
          "output_type": "execute_result",
          "data": {
            "text/plain": [
              "<matplotlib.axes._subplots.AxesSubplot at 0x7f9f7f154890>"
            ]
          },
          "metadata": {},
          "execution_count": 50
        },
        {
          "output_type": "display_data",
          "data": {
            "text/plain": [
              "<Figure size 1008x504 with 2 Axes>"
            ],
            "image/png": "[encoded data removed]"
          },
          "metadata": {
            "needs_background": "light"
          }
        }
      ]
    },
    {
      "cell_type": "markdown",
      "source": [
        "END"
      ],
      "metadata": {
        "id": "eEkNthdc6RA6"
      }
    }
  ]
}