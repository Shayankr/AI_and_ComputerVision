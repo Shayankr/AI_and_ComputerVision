{
  "nbformat": 4,
  "nbformat_minor": 0,
  "metadata": {
    "colab": {
      "provenance": [],
      "collapsed_sections": [],
      "authorship_tag": "ABX9TyNHBucrH+brPE1G+g9II0fa",
      "include_colab_link": true
    },
    "kernelspec": {
      "name": "python3",
      "display_name": "Python 3"
    },
    "language_info": {
      "name": "python"
    }
  },
  "cells": [
    {
      "cell_type": "markdown",
      "metadata": {
        "id": "view-in-github",
        "colab_type": "text"
      },
      "source": [
        "<a href=\"https://colab.research.google.com/github/Shayankr/AI_and_ComputerVision/blob/master/CNN_Introduction.ipynb\" target=\"_parent\"><img src=\"https://colab.research.google.com/assets/colab-badge.svg\" alt=\"Open In Colab\"/></a>"
      ]
    },
    {
      "cell_type": "markdown",
      "source": [
        "In deep learning, a convolutional neural network is a class of artificial neural network, most commonly applied to analyze visual imagery"
      ],
      "metadata": {
        "id": "3SneICccXiZs"
      }
    },
    {
      "cell_type": "markdown",
      "source": [
        "A convolutional neural network (CNN) is a type of artificial neural network used primarily for image recognition and processing, due to its ability to recognize patterns in images."
      ],
      "metadata": {
        "id": "QYAMlcjxXp6B"
      }
    },
    {
      "cell_type": "markdown",
      "source": [
        "<img src=\"https://docs.ecognition.com/Resources/Images/ECogUsr/UG_CNN_scheme.png\"/>"
      ],
      "metadata": {
        "id": "bJxnVJyKcxz1"
      }
    },
    {
      "cell_type": "markdown",
      "source": [
        "<img src=\"https://indoml.files.wordpress.com/2018/03/convolution-with-multiple-filters2.png\"/>"
      ],
      "metadata": {
        "id": "YOmm3QW3dGe8"
      }
    },
    {
      "cell_type": "markdown",
      "source": [
        "<img src=\"https://i.stack.imgur.com/MkFSC.png\" height=400 width=700/>"
      ],
      "metadata": {
        "id": "gckA3r1QdSBZ"
      }
    },
    {
      "cell_type": "markdown",
      "source": [
        "<img src=\"https://mlnotebook.github.io/img/CNN/convExample.png\"/>"
      ],
      "metadata": {
        "id": "TEqWteB1d8nX"
      }
    },
    {
      "cell_type": "markdown",
      "source": [
        "<img src=\"https://cdn-media-1.freecodecamp.org/images/Gjxh-aApWTzIRI1UNmGnNLrk8OKsQaf2tlDu\"/>"
      ],
      "metadata": {
        "id": "jsEamfUxeS3S"
      }
    },
    {
      "cell_type": "markdown",
      "source": [
        "<img src=\"https://www.researchgate.net/profile/Thorsten-Hoeser/publication/341576780/figure/fig2/AS:894032699998208@1590165414024/Overview-and-details-of-a-convolutional-neural-network-CNN-architecture-for-image_Q640.jpg\" height=500 width=1000>"
      ],
      "metadata": {
        "id": "7qgdJtMyeWby"
      }
    },
    {
      "cell_type": "markdown",
      "source": [
        "<img src=\"https://www.antoniofurioso.com/wp-content/uploads/2021/05/cnn.png\"/>"
      ],
      "metadata": {
        "id": "j1vjY1V0e5cM"
      }
    },
    {
      "cell_type": "markdown",
      "source": [
        "<img src=\"https://www.researchgate.net/publication/331540139/figure/fig4/AS:733273504354306@1551837435967/The-overall-architecture-of-the-Convolutional-Neural-Network-CNN-includes-an-input.png\"/>"
      ],
      "metadata": {
        "id": "bkJNken0e9ZS"
      }
    },
    {
      "cell_type": "markdown",
      "source": [
        "<img src=\"https://www.kernix.com/doc/classification-cnn@2x-1.jpg\"/>"
      ],
      "metadata": {
        "id": "ej0-oTjwfG8x"
      }
    },
    {
      "cell_type": "markdown",
      "source": [
        "<img src=\"data:image/jpeg;base64,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\"/>"
      ],
      "metadata": {
        "id": "0Y94d-myfMNw"
      }
    },
    {
      "cell_type": "markdown",
      "source": [
        "<img src=\"https://miro.medium.com/max/875/1*BnoNVpj7uCNMOFOj1DQBQA.png\" height=400 width=900/>"
      ],
      "metadata": {
        "id": "50L2U7VfgBI5"
      }
    },
    {
      "cell_type": "markdown",
      "source": [
        "There are four main operations in the ConvNet shown in Figure  above:\n",
        "\n",
        "  1. Convolution\n",
        "  2. Non Linearity (ReLU)\n",
        "  3. Pooling or Sub Sampling\n",
        "  4. Classification (Fully Connected Layer)"
      ],
      "metadata": {
        "id": "3SJHz4U9j90F"
      }
    },
    {
      "cell_type": "markdown",
      "source": [
        "**The Convolution Step**"
      ],
      "metadata": {
        "id": "jPoRxtKRkUap"
      }
    },
    {
      "cell_type": "markdown",
      "source": [
        "<img src=\"https://ujwlkarn.files.wordpress.com/2016/07/convolution_schematic.gif?w=268&h=196\" height=300 width=800/>"
      ],
      "metadata": {
        "id": "vCA4FAM0kYOW"
      }
    },
    {
      "cell_type": "markdown",
      "source": [
        "<img src=\"https://ujwlkarn.files.wordpress.com/2016/08/screen-shot-2016-08-05-at-11-03-00-pm.png?w=342&h=562\"/>"
      ],
      "metadata": {
        "id": "jGWmQZPdkeoz"
      }
    },
    {
      "cell_type": "markdown",
      "source": [
        "**Introducing Non Linearity (ReLU)**"
      ],
      "metadata": {
        "id": "9TG1h6jrkjCa"
      }
    },
    {
      "cell_type": "markdown",
      "source": [
        "<img src=\"https://ujwlkarn.files.wordpress.com/2016/08/screen-shot-2016-08-10-at-2-23-48-am.png?w=537&h=168\"/>"
      ],
      "metadata": {
        "id": "fWMcVk70klH6"
      }
    },
    {
      "cell_type": "markdown",
      "source": [
        "<img src=\"https://ujwlkarn.files.wordpress.com/2016/08/screen-shot-2016-08-07-at-6-18-19-pm.png?w=748\"/>"
      ],
      "metadata": {
        "id": "1F9Cp56dkxeT"
      }
    },
    {
      "cell_type": "markdown",
      "source": [
        "**The Pooling Step**"
      ],
      "metadata": {
        "id": "-NraB-jpk10R"
      }
    },
    {
      "cell_type": "markdown",
      "source": [
        "Spatial Pooling (also called subsampling or downsampling) reduces the dimensionality of each feature map but retains the most important information. Spatial Pooling can be of different types: Max, Average, Sum etc."
      ],
      "metadata": {
        "id": "H_n8e5Fvk7Pp"
      }
    },
    {
      "cell_type": "markdown",
      "source": [
        "<img src=\"https://ujwlkarn.files.wordpress.com/2016/08/screen-shot-2016-08-10-at-3-38-39-am.png?w=494\"/>"
      ],
      "metadata": {
        "id": "-P4oNGiqk9Yt"
      }
    },
    {
      "cell_type": "markdown",
      "source": [
        "<img src=\"https://ujwlkarn.files.wordpress.com/2016/08/screen-shot-2016-08-07-at-6-19-37-pm.png?w=401&h=219\"/>"
      ],
      "metadata": {
        "id": "LgHEFT8HlKav"
      }
    },
    {
      "cell_type": "markdown",
      "source": [
        "<img src=\"https://ujwlkarn.files.wordpress.com/2016/08/screen-shot-2016-08-07-at-6-11-53-pm.png?w=748\"/>"
      ],
      "metadata": {
        "id": "BQJxExrTlP-_"
      }
    },
    {
      "cell_type": "markdown",
      "source": [
        "The output of the last Pooling Layer acts as an input to the Fully Connected Layer."
      ],
      "metadata": {
        "id": "VxY3nmkllYDx"
      }
    },
    {
      "cell_type": "markdown",
      "source": [
        "**Fully Connected Layer**"
      ],
      "metadata": {
        "id": "BWqHdtMLle_x"
      }
    },
    {
      "cell_type": "markdown",
      "source": [
        "<img src=\"https://ujwlkarn.files.wordpress.com/2016/08/screen-shot-2016-08-06-at-12-34-02-am.png?w=484&h=152\"/>"
      ],
      "metadata": {
        "id": "CeImCWIDls-z"
      }
    },
    {
      "cell_type": "markdown",
      "source": [
        "**Putting it all together – Training using Backpropagation**"
      ],
      "metadata": {
        "id": "T1OSnTDAlxzq"
      }
    },
    {
      "cell_type": "markdown",
      "source": [
        "<img src=\"https://ujwlkarn.files.wordpress.com/2016/08/screen-shot-2016-08-07-at-9-15-21-pm.png?w=748\"/>"
      ],
      "metadata": {
        "id": "k4SJVRztl1YT"
      }
    },
    {
      "cell_type": "markdown",
      "source": [
        "The overall training process of the Convolution Network may be summarized as below:\n",
        "\n",
        "  1. **Step1:** We initialize all filters and parameters / weights with random values\n",
        "\n",
        "  2. **Step2:** The network takes a training image as input, goes through the forward propagation step (convolution, ReLU and pooling operations along with forward propagation in the Fully Connected layer) and finds the output probabilities for each class.\n",
        "  Lets say the output probabilities for the boat image above are [0.2, 0.4, 0.1, 0.3]\n",
        "  Since weights are randomly assigned for the first training example, output probabilities are also random.\n",
        "\n",
        "  3. **Step3:** Calculate the total error at the output layer (summation over all 4 classes)\n",
        "  Total Error = ∑  ½ (target probability – output probability) ²\n",
        "\n",
        "  4. **Step4:** Use Backpropagation to calculate the gradients of the error with respect to all weights in the network and use gradient descent to update all filter values / weights and parameter values to minimize the output error.\n",
        "  The weights are adjusted in proportion to their contribution to the total error.\n",
        "  When the same image is input again, output probabilities might now be [0.1, 0.1, 0.7, 0.1], which is closer to the target vector [0, 0, 1, 0].\n",
        "  This means that the network has learnt to classify this particular image correctly by adjusting its weights / filters such that the output error is reduced.\n",
        "  Parameters like number of filters, filter sizes, architecture of the network etc. have all been fixed before Step 1 and do not change during training process – only the values of the filter matrix and connection weights get updated.\n",
        "\n",
        "  5. **Step5**: Repeat steps 2-4 with all images in the training set."
      ],
      "metadata": {
        "id": "awTrnsCFl8aQ"
      }
    },
    {
      "cell_type": "markdown",
      "source": [
        "<img src=\"https://ujwlkarn.files.wordpress.com/2016/08/car.png?w=606\"/>"
      ],
      "metadata": {
        "id": "GeYMg16rmiwm"
      }
    },
    {
      "cell_type": "markdown",
      "source": [
        "## Other ConvNet Architectures"
      ],
      "metadata": {
        "id": "j8W9yGb5mnz0"
      }
    },
    {
      "cell_type": "markdown",
      "source": [
        "Convolutional Neural Networks have been around since early 1990s. We discussed the LeNet above which was one of the very first convolutional neural networks. Some other influential architectures are listed below"
      ],
      "metadata": {
        "id": "IizJlBAumudA"
      }
    },
    {
      "cell_type": "markdown",
      "source": [
        "1. **LeNet (1990s):** Already covered in this article.\n",
        "1990s to 2012: In the years from late 1990s to early 2010s convolutional neural network were in incubation. As more and more data and computing power became available, tasks that convolutional neural networks could tackle became more and more interesting.\n",
        "\n",
        "2. **AlexNet (2012) –** In 2012, Alex Krizhevsky (and others) released AlexNet which was a deeper and much wider version of the LeNet and won by a large margin the difficult ImageNet Large Scale Visual Recognition Challenge (ILSVRC) in 2012. It was a significant breakthrough with respect to the previous approaches and the current widespread application of CNNs can be attributed to this work.\n",
        "\n",
        "3. **ZF Net (2013) –** The ILSVRC 2013 winner was a Convolutional Network from Matthew Zeiler and Rob Fergus. It became known as the ZFNet (short for Zeiler & Fergus Net). It was an improvement on AlexNet by tweaking the architecture hyperparameters.\n",
        "\n",
        "4. **GoogLeNet (2014) -** The ILSVRC 2014 winner was a Convolutional Network from Szegedy et al. from Google. Its main contribution was the development of an Inception Module that dramatically reduced the number of parameters in the network (4M, compared to AlexNet with 60M).\n",
        "\n",
        "5. **VGGNet (2014) –** The runner-up in ILSVRC 2014 was the network that became known as the VGGNet. Its main contribution was in showing that the depth of the network (number of layers) is a critical component for good performance.\n",
        "\n",
        "6. **ResNets (2015) –** Residual Network developed by Kaiming He (and others) was the winner of ILSVRC 2015. ResNets are currently by far state of the art Convolutional Neural Network models and are the default choice for using ConvNets in practice (as of May 2016).\n",
        "\n",
        "7. **DenseNet (August 2016)** – Recently published by Gao Huang (and others), the Densely Connected Convolutional Network has each layer directly connected to every other layer in a feed-forward fashion. The DenseNet has been shown to obtain significant improvements over previous state-of-the-art architectures on five highly competitive object recognition benchmark tasks. Check out the Torch implementation here."
      ],
      "metadata": {
        "id": "sPlZ5MYZmxRP"
      }
    },
    {
      "cell_type": "markdown",
      "source": [
        "Visit Website (References): https://ujjwalkarn.me/2016/08/11/intuitive-explanation-convnets/"
      ],
      "metadata": {
        "id": "2vP9kCQknQTA"
      }
    },
    {
      "cell_type": "code",
      "execution_count": null,
      "metadata": {
        "id": "bBqUmp4wXUmn"
      },
      "outputs": [],
      "source": [
        "#"
      ]
    }
  ]
}