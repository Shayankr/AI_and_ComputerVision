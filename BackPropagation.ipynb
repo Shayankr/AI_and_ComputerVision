{
 "cells": [
  {
   "cell_type": "markdown",
   "metadata": {},
   "source": [
    "# <center>BackPropagation_Technique"
   ]
  },
  {
   "cell_type": "markdown",
   "metadata": {},
   "source": [
    "In machine learning, backpropagation is a widely used algorithm for training feedforward neural networks."
   ]
  },
  {
   "cell_type": "markdown",
   "metadata": {},
   "source": [
    "The algorithm is used to effectively train a neural network through a method called chain rule. In simple terms, after each forward pass through a network, backpropagation performs a backward pass while adjusting the model’s parameters (weights and biases)."
   ]
  },
  {
   "cell_type": "code",
   "execution_count": 1,
   "metadata": {},
   "outputs": [],
   "source": [
    "#Calculate Error\n",
    "\n",
    "# 1. The output of model (with random weights and bias) is not going to be correct.\n",
    "# 2. We will calculate the error - \n",
    "# 3. Error = output_predicted - Output_actual\n",
    "#\n",
    "# 4. Once we calculate error, we will penalize the model with respect to error\n",
    "# 5. Define Error function - as the sum of square of the error.\n",
    "# Square is preferred in compare to other function. \n",
    "# Absolute value will introduce difficulty in differentiation and square term is easy to differentiate.\n",
    "# By squaring the error - for small error it becomes more small and for large error-the square term becomes bigger-it means it provides more penalty.\n",
    "# So, Square function is preferred.\n",
    "\n",
    "# Penalty = (error)^2\n",
    "# (Output_pred - Output_Actual)^2"
   ]
  },
  {
   "cell_type": "code",
   "execution_count": 2,
   "metadata": {},
   "outputs": [],
   "source": [
    "# (i*w+b - output_actual)^2\n",
    "# weights and bias are responsible for this error.\n",
    "\n",
    "# The model will try to adjust(update) weights and bias in such a way -- that error will become minimum."
   ]
  },
  {
   "cell_type": "code",
   "execution_count": 4,
   "metadata": {},
   "outputs": [],
   "source": [
    "# Error or loss function, E\n",
    "# E = mean square error of each individual error at each node(neuron)."
   ]
  },
  {
   "cell_type": "markdown",
   "metadata": {},
   "source": [
    "<center><img src=\"data:image/png;base64,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\" height=200 width=400/>"
   ]
  },
  {
   "cell_type": "code",
   "execution_count": 3,
   "metadata": {},
   "outputs": [],
   "source": [
    "# We will measure the delta differentition in Error w.r.to weights dE/dw\n",
    "# and we will adjust the weights accordingly.\n",
    "\n",
    "# new_weight = old_weight - (eta)*(dE/dw)  -- eta - is learning rate.\n",
    "\n",
    "# with new weight and bias -- we will again do a feedforward propagation."
   ]
  },
  {
   "cell_type": "markdown",
   "metadata": {},
   "source": [
    "<center><img src=\"data:image/png;base64,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\"/>"
   ]
  },
  {
   "cell_type": "markdown",
   "metadata": {},
   "source": [
    "<center><img src=\"https://dotnettutorials.net/wp-content/uploads/2022/06/word-image-27980-1.png\"/>"
   ]
  },
  {
   "cell_type": "code",
   "execution_count": 5,
   "metadata": {},
   "outputs": [],
   "source": [
    "# The learning should be be in certain limit -- as described in above diagram.\n",
    "# LR -- learning rate = 0.01 (by default)"
   ]
  },
  {
   "cell_type": "code",
   "execution_count": 6,
   "metadata": {},
   "outputs": [],
   "source": [
    "# We can also introduce \"momentum\" conceept in the way to update weights, ensuring to reach upto optimum point in less no. of iterations."
   ]
  },
  {
   "cell_type": "code",
   "execution_count": 7,
   "metadata": {},
   "outputs": [],
   "source": [
    "# Available optimizers\n",
    "# SGD\n",
    "# RMSprop\n",
    "# Adam\n",
    "# Adadelta\n",
    "# Adagrad\n",
    "# Adamax\n",
    "# Nadam\n",
    "# Ftrl"
   ]
  },
  {
   "cell_type": "code",
   "execution_count": 9,
   "metadata": {},
   "outputs": [],
   "source": [
    "#SGD (Stochastic Gradient Descent)\n",
    "\n",
    "# tf.keras.optimizers.SGD(\n",
    "#     learning_rate=0.01, momentum=0.0, nesterov=False, name=\"SGD\", **kwargs\n",
    "# )"
   ]
  },
  {
   "cell_type": "code",
   "execution_count": null,
   "metadata": {},
   "outputs": [],
   "source": []
  }
 ],
 "metadata": {
  "kernelspec": {
   "display_name": "Python 3.9.12 ('base')",
   "language": "python",
   "name": "python3"
  },
  "language_info": {
   "codemirror_mode": {
    "name": "ipython",
    "version": 3
   },
   "file_extension": ".py",
   "mimetype": "text/x-python",
   "name": "python",
   "nbconvert_exporter": "python",
   "pygments_lexer": "ipython3",
   "version": "3.9.12"
  },
  "orig_nbformat": 4,
  "vscode": {
   "interpreter": {
    "hash": "627b3d214c5235b64deae2972c28a1a2bf50f32c2094c8c7d4b9498267426e58"
   }
  }
 },
 "nbformat": 4,
 "nbformat_minor": 2
}
